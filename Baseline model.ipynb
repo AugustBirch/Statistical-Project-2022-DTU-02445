{
 "cells": [
  {
   "cell_type": "code",
   "metadata": {
    "tags": [],
    "cell_id": "00000-97e341c6-e661-4aff-8a22-113ef18dab36",
    "deepnote_to_be_reexecuted": false,
    "source_hash": "c78d7d1c",
    "execution_start": 1642162696390,
    "execution_millis": 1662,
    "deepnote_cell_type": "code"
   },
   "source": "import pandas as pd\nimport random\nfrom sklearn.model_selection import train_test_split",
   "execution_count": null,
   "outputs": []
  },
  {
   "cell_type": "code",
   "metadata": {
    "tags": [],
    "cell_id": "00001-bff5fffc-294b-4c14-a74d-7e881a9814f1",
    "deepnote_to_be_reexecuted": false,
    "source_hash": "bee82825",
    "execution_start": 1642162698067,
    "execution_millis": 193,
    "deepnote_cell_type": "code"
   },
   "source": "df = pd.read_csv('armdatadf.csv')\ndf['setup'] = df['setup'].apply(str)\n\nY = df[\"setup\"].values\nX = df[[\"x\",\"y\",\"z\"]]",
   "execution_count": null,
   "outputs": []
  },
  {
   "cell_type": "code",
   "metadata": {
    "tags": [],
    "cell_id": "00003-fc441434-00dc-46ff-95ee-ce902b8023d0",
    "deepnote_to_be_reexecuted": false,
    "source_hash": "f7bfc4af",
    "execution_start": 1642162701267,
    "execution_millis": 306,
    "deepnote_output_heights": [
     21.1875
    ],
    "deepnote_cell_type": "code"
   },
   "source": "# Train test split\n\nX = df.drop(['setup','time','repetition'],axis=1).values\ny = df['setup'].values\nX_train,X_test,y_train,y_test = train_test_split(X,y,random_state=0,shuffle=False,test_size=0.2)\n\npd.DataFrame(X_test)",
   "execution_count": null,
   "outputs": [
    {
     "output_type": "execute_result",
     "execution_count": 3,
     "data": {
      "application/vnd.deepnote.dataframe.v3+json": {
       "column_count": 5,
       "row_count": 32000,
       "columns": [
        {
         "name": 0,
         "dtype": "float64",
         "stats": {
          "unique_count": 32000,
          "nan_count": 0,
          "min": "128001.0",
          "max": "160000.0",
          "histogram": [
           {
            "bin_start": 128001,
            "bin_end": 131200.9,
            "count": 3200
           },
           {
            "bin_start": 131200.9,
            "bin_end": 134400.8,
            "count": 3200
           },
           {
            "bin_start": 134400.8,
            "bin_end": 137600.7,
            "count": 3200
           },
           {
            "bin_start": 137600.7,
            "bin_end": 140800.6,
            "count": 3200
           },
           {
            "bin_start": 140800.6,
            "bin_end": 144000.5,
            "count": 3200
           },
           {
            "bin_start": 144000.5,
            "bin_end": 147200.4,
            "count": 3200
           },
           {
            "bin_start": 147200.4,
            "bin_end": 150400.3,
            "count": 3200
           },
           {
            "bin_start": 150400.3,
            "bin_end": 153600.2,
            "count": 3200
           },
           {
            "bin_start": 153600.2,
            "bin_end": 156800.1,
            "count": 3200
           },
           {
            "bin_start": 156800.1,
            "bin_end": 160000,
            "count": 3200
           }
          ]
         }
        },
        {
         "name": 1,
         "dtype": "float64",
         "stats": {
          "unique_count": 31900,
          "nan_count": 0,
          "min": "-2.477516",
          "max": "61.88022",
          "histogram": [
           {
            "bin_start": -2.477516,
            "bin_end": 3.9582576,
            "count": 6703
           },
           {
            "bin_start": 3.9582576,
            "bin_end": 10.3940312,
            "count": 2378
           },
           {
            "bin_start": 10.3940312,
            "bin_end": 16.829804799999998,
            "count": 1901
           },
           {
            "bin_start": 16.829804799999998,
            "bin_end": 23.2655784,
            "count": 1754
           },
           {
            "bin_start": 23.2655784,
            "bin_end": 29.701352,
            "count": 1698
           },
           {
            "bin_start": 29.701352,
            "bin_end": 36.1371256,
            "count": 1727
           },
           {
            "bin_start": 36.1371256,
            "bin_end": 42.5728992,
            "count": 1864
           },
           {
            "bin_start": 42.5728992,
            "bin_end": 49.0086728,
            "count": 2141
           },
           {
            "bin_start": 49.0086728,
            "bin_end": 55.4444464,
            "count": 3079
           },
           {
            "bin_start": 55.4444464,
            "bin_end": 61.88022,
            "count": 8755
           }
          ]
         }
        },
        {
         "name": 2,
         "dtype": "float64",
         "stats": {
          "unique_count": 31966,
          "nan_count": 0,
          "min": "-11.5364",
          "max": "4.809124",
          "histogram": [
           {
            "bin_start": -11.5364,
            "bin_end": -9.9018476,
            "count": 37
           },
           {
            "bin_start": -9.9018476,
            "bin_end": -8.2672952,
            "count": 162
           },
           {
            "bin_start": -8.2672952,
            "bin_end": -6.632742800000001,
            "count": 550
           },
           {
            "bin_start": -6.632742800000001,
            "bin_end": -4.9981904,
            "count": 1291
           },
           {
            "bin_start": -4.9981904,
            "bin_end": -3.363638,
            "count": 2665
           },
           {
            "bin_start": -3.363638,
            "bin_end": -1.7290856000000012,
            "count": 4478
           },
           {
            "bin_start": -1.7290856000000012,
            "bin_end": -0.09453320000000076,
            "count": 11044
           },
           {
            "bin_start": -0.09453320000000076,
            "bin_end": 1.5400191999999997,
            "count": 10492
           },
           {
            "bin_start": 1.5400191999999997,
            "bin_end": 3.1745716,
            "count": 1215
           },
           {
            "bin_start": 3.1745716,
            "bin_end": 4.809124,
            "count": 66
           }
          ]
         }
        },
        {
         "name": 3,
         "dtype": "float64"
        },
        {
         "name": 4,
         "dtype": "float64"
        },
        {
         "name": "_deepnote_index_column",
         "dtype": "int64"
        }
       ],
       "rows": [
        {
         "0": 128001,
         "1": -0.4439334,
         "2": 0.6018271,
         "3": 22.44298,
         "4": 9,
         "_deepnote_index_column": 0
        },
        {
         "0": 128002,
         "1": -0.4749561,
         "2": 0.5987994,
         "3": 22.45589,
         "4": 9,
         "_deepnote_index_column": 1
        },
        {
         "0": 128003,
         "1": -0.565979,
         "2": 0.5565029,
         "3": 22.46283,
         "4": 9,
         "_deepnote_index_column": 2
        },
        {
         "0": 128004,
         "1": -0.6133906,
         "2": 0.4302066,
         "3": 22.47568,
         "4": 9,
         "_deepnote_index_column": 3
        },
        {
         "0": 128005,
         "1": -0.6574918,
         "2": 0.4064784,
         "3": 22.48133,
         "4": 9,
         "_deepnote_index_column": 4
        },
        {
         "0": 128006,
         "1": -0.6469291,
         "2": 0.3710245,
         "3": 22.55998,
         "4": 9,
         "_deepnote_index_column": 5
        },
        {
         "0": 128007,
         "1": -0.5934699,
         "2": 0.3105254,
         "3": 22.74459,
         "4": 9,
         "_deepnote_index_column": 6
        },
        {
         "0": 128008,
         "1": -0.5202089,
         "2": 0.2517318,
         "3": 22.99544,
         "4": 9,
         "_deepnote_index_column": 7
        },
        {
         "0": 128009,
         "1": -0.4702278,
         "2": 0.198677,
         "3": 23.30002,
         "4": 9,
         "_deepnote_index_column": 8
        },
        {
         "0": 128010,
         "1": -0.3942082,
         "2": 0.1321357,
         "3": 23.67818,
         "4": 9,
         "_deepnote_index_column": 9
        }
       ]
      },
      "text/plain": "              0          1         2         3     4\n0      128001.0  -0.443933  0.601827  22.44298   9.0\n1      128002.0  -0.474956  0.598799  22.45589   9.0\n2      128003.0  -0.565979  0.556503  22.46283   9.0\n3      128004.0  -0.613391  0.430207  22.47568   9.0\n4      128005.0  -0.657492  0.406478  22.48133   9.0\n...         ...        ...       ...       ...   ...\n31995  159996.0  59.373800  0.376782  22.65644  10.0\n31996  159997.0  59.334110  0.324052  22.65506  10.0\n31997  159998.0  59.286670  0.279292  22.65436  10.0\n31998  159999.0  59.250540  0.233077  22.65585  10.0\n31999  160000.0  59.216910  0.200666  22.65816  10.0\n\n[32000 rows x 5 columns]",
      "text/html": "<div>\n<style scoped>\n    .dataframe tbody tr th:only-of-type {\n        vertical-align: middle;\n    }\n\n    .dataframe tbody tr th {\n        vertical-align: top;\n    }\n\n    .dataframe thead th {\n        text-align: right;\n    }\n</style>\n<table border=\"1\" class=\"dataframe\">\n  <thead>\n    <tr style=\"text-align: right;\">\n      <th></th>\n      <th>0</th>\n      <th>1</th>\n      <th>2</th>\n      <th>3</th>\n      <th>4</th>\n    </tr>\n  </thead>\n  <tbody>\n    <tr>\n      <th>0</th>\n      <td>128001.0</td>\n      <td>-0.443933</td>\n      <td>0.601827</td>\n      <td>22.44298</td>\n      <td>9.0</td>\n    </tr>\n    <tr>\n      <th>1</th>\n      <td>128002.0</td>\n      <td>-0.474956</td>\n      <td>0.598799</td>\n      <td>22.45589</td>\n      <td>9.0</td>\n    </tr>\n    <tr>\n      <th>2</th>\n      <td>128003.0</td>\n      <td>-0.565979</td>\n      <td>0.556503</td>\n      <td>22.46283</td>\n      <td>9.0</td>\n    </tr>\n    <tr>\n      <th>3</th>\n      <td>128004.0</td>\n      <td>-0.613391</td>\n      <td>0.430207</td>\n      <td>22.47568</td>\n      <td>9.0</td>\n    </tr>\n    <tr>\n      <th>4</th>\n      <td>128005.0</td>\n      <td>-0.657492</td>\n      <td>0.406478</td>\n      <td>22.48133</td>\n      <td>9.0</td>\n    </tr>\n    <tr>\n      <th>...</th>\n      <td>...</td>\n      <td>...</td>\n      <td>...</td>\n      <td>...</td>\n      <td>...</td>\n    </tr>\n    <tr>\n      <th>31995</th>\n      <td>159996.0</td>\n      <td>59.373800</td>\n      <td>0.376782</td>\n      <td>22.65644</td>\n      <td>10.0</td>\n    </tr>\n    <tr>\n      <th>31996</th>\n      <td>159997.0</td>\n      <td>59.334110</td>\n      <td>0.324052</td>\n      <td>22.65506</td>\n      <td>10.0</td>\n    </tr>\n    <tr>\n      <th>31997</th>\n      <td>159998.0</td>\n      <td>59.286670</td>\n      <td>0.279292</td>\n      <td>22.65436</td>\n      <td>10.0</td>\n    </tr>\n    <tr>\n      <th>31998</th>\n      <td>159999.0</td>\n      <td>59.250540</td>\n      <td>0.233077</td>\n      <td>22.65585</td>\n      <td>10.0</td>\n    </tr>\n    <tr>\n      <th>31999</th>\n      <td>160000.0</td>\n      <td>59.216910</td>\n      <td>0.200666</td>\n      <td>22.65816</td>\n      <td>10.0</td>\n    </tr>\n  </tbody>\n</table>\n<p>32000 rows × 5 columns</p>\n</div>"
     },
     "metadata": {}
    }
   ]
  },
  {
   "cell_type": "code",
   "metadata": {
    "tags": [],
    "cell_id": "00003-0182f7b3-6729-4b9d-b300-e75610029266",
    "deepnote_to_be_reexecuted": false,
    "source_hash": "92194b76",
    "execution_start": 1642162705098,
    "execution_millis": 76,
    "deepnote_output_heights": [
     null,
     21.171875
    ],
    "deepnote_cell_type": "code"
   },
   "source": "def randbaseline (X_train,X_test,y_train,y_test):\n    correct = 0\n\n    for i in range(1,len(y_test)):\n        guess = random.randint(1, 16)\n        guess = str(guess)\n        if  (y_test[i] == guess):\n            correct +=1\n\n\n    print(\"accuracy:\")\n    return correct/len(y_test)\nrandbaseline(X_train,X_test,y_train,y_test)",
   "execution_count": null,
   "outputs": [
    {
     "name": "stdout",
     "text": "accuracy:\n",
     "output_type": "stream"
    },
    {
     "output_type": "execute_result",
     "execution_count": 4,
     "data": {
      "text/plain": "0.0624375"
     },
     "metadata": {}
    }
   ]
  },
  {
   "cell_type": "code",
   "metadata": {
    "tags": [],
    "cell_id": "00005-6c1ea63d-0274-4729-a70d-fde7fedf0cfd",
    "deepnote_to_be_reexecuted": false,
    "source_hash": "ae86d92c",
    "execution_start": 1642162712773,
    "execution_millis": 7,
    "deepnote_output_heights": [
     null,
     21.171875
    ],
    "deepnote_cell_type": "code"
   },
   "source": "def onebaseline (X_train,X_test,y_train,y_test):\n    correct = 0\n\n    for i in range(1,len(y_test)):\n\n        if  (y_test[i] == \"16\"):\n            correct +=1\n\n    print(\"Accuracy\")\n    return correct/len(y_test)\nonebaseline(X_train,X_test,y_train,y_test)",
   "execution_count": null,
   "outputs": [
    {
     "name": "stdout",
     "text": "Accuracy\n",
     "output_type": "stream"
    },
    {
     "output_type": "execute_result",
     "execution_count": 5,
     "data": {
      "text/plain": "0.0625"
     },
     "metadata": {}
    }
   ]
  },
  {
   "cell_type": "code",
   "metadata": {
    "cell_id": "a4e12fd0-a250-4348-9f70-16662c300e47",
    "tags": [],
    "deepnote_to_be_reexecuted": false,
    "source_hash": "c035221d",
    "execution_start": 1642163881077,
    "execution_millis": 202,
    "deepnote_cell_type": "code"
   },
   "source": "df = pd.read_csv('armdatadf.csv')\ndf['setup'] = df['setup'].apply(str)\nimport numpy as np\nY = df[[\"setup\", \"person\"]][::100]",
   "execution_count": null,
   "outputs": []
  },
  {
   "cell_type": "code",
   "metadata": {
    "cell_id": "4a6b795b-403a-4a0e-a5b8-d570b860951a",
    "tags": [],
    "deepnote_to_be_reexecuted": false,
    "source_hash": "981450d2",
    "execution_start": 1642163933267,
    "execution_millis": 1,
    "deepnote_cell_type": "code"
   },
   "source": "person = 10\nrightWrong_baseline = np.zeros((10,10*16))\nfor i in range(1, person+1):\n    Y_test  = Y[(Y.person == i)].copy()\n    rightWrong_baseline[i-1] = (Y_test.setup == \"16\")*1\n\nprint(np.mean(rightWrong_baseline))\n \n\n\n\n    \n    \n",
   "execution_count": null,
   "outputs": [
    {
     "name": "stdout",
     "text": "0.0625\n",
     "output_type": "stream"
    }
   ]
  },
  {
   "cell_type": "code",
   "metadata": {
    "cell_id": "ea3f1f44-e607-4cee-b9f0-6c6616ee9d4f",
    "tags": [],
    "deepnote_to_be_reexecuted": false,
    "source_hash": "8be0304a",
    "execution_start": 1642163995738,
    "execution_millis": 688,
    "deepnote_cell_type": "code"
   },
   "source": "df = pd.DataFrame (rightWrong_baseline)\nfilepath = 'rightWrong_baseline.xlsx'\ndf.to_excel(filepath, index=False)",
   "execution_count": null,
   "outputs": []
  },
  {
   "cell_type": "code",
   "metadata": {
    "cell_id": "010ff1fa-148e-48a5-99e2-d6bef0c35f71",
    "tags": [],
    "deepnote_cell_type": "code"
   },
   "source": "def onebaseline (X_train,X_test,y_train,y_test):\n    correct = 0\n\n    for i in range(1,len(y_test)):\n\n        if  (y_test[i] == \"16\"):\n            correct +=1\n\n    print(\"Accuracy\")\n    return correct/len(y_test)\nonebaseline(X_train,X_test,y_train,y_test)",
   "execution_count": null,
   "outputs": []
  },
  {
   "cell_type": "markdown",
   "source": "<a style='text-decoration:none;line-height:16px;display:flex;color:#5B5B62;padding:10px;justify-content:end;' href='https://deepnote.com?utm_source=created-in-deepnote-cell&projectId=9cabbf1f-ad60-47b3-af3c-cdf3732148b9' target=\"_blank\">\n<img alt='Created in deepnote.com' style='display:inline;max-height:16px;margin:0px;margin-right:7.5px;' src='data:image/svg+xml;base64,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' > </img>\nCreated in <span style='font-weight:600;margin-left:4px;'>Deepnote</span></a>",
   "metadata": {
    "tags": [],
    "created_in_deepnote_cell": true,
    "deepnote_cell_type": "markdown"
   }
  }
 ],
 "nbformat": 4,
 "nbformat_minor": 2,
 "metadata": {
  "orig_nbformat": 2,
  "deepnote": {
   "is_reactive": false
  },
  "deepnote_notebook_id": "f6e1c473-c26c-41f1-bfc8-ed38512854bf",
  "deepnote_execution_queue": []
 }
}