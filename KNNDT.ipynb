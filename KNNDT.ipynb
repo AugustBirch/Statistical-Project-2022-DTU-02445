{
 "cells": [
  {
   "cell_type": "code",
   "metadata": {
    "cell_id": "ed65988b-b130-4d0c-86c8-248cabacb629",
    "tags": [],
    "deepnote_to_be_reexecuted": false,
    "source_hash": "73019331",
    "execution_start": 1642112834681,
    "execution_millis": 195523,
    "deepnote_output_heights": [
     null,
     606.453125
    ],
    "output_cleared": true,
    "deepnote_cell_type": "code"
   },
   "source": "from sklearn.neighbors import KNeighborsClassifier\nfrom sklearn import tree\n\nimport numpy as np\nfrom collections import Counter\n\nimport pandas as pd\n\n\n\n\n\n\ndef most_frequent(List):\n    return max(set(List), key = List.count)\n\ndef knn_model_train(X_train, y_train, neighbors): \n    knn_models = [None]*100\n    for i in range(100):\n        clf = KNeighborsClassifier(n_neighbors=neighbors)\n        local_X_train = X_train[X_train.time==i+1].copy().drop(columns = [\"time\"])\n        local_Y_train = Y_train[Y_train.time==i+1].setup\n        knn_models[i] = clf.fit(local_X_train, local_Y_train.values.ravel())\n    return knn_models\n\ndef DT_model_train(X_train, y_train): \n    DT_models = [None]*100\n    \n    for i in range(100):\n        clf = tree.DecisionTreeClassifier()\n        local_X_train = X_train[X_train.time==i+1].copy().drop(columns = [\"time\"])\n        local_Y_train = Y_train[Y_train.time==i+1].setup\n        DT_models[i] = clf.fit(local_X_train, local_Y_train.values.ravel())\n    return DT_models\n\ndef model_test(X_test, y_test, models):\n    prediction = []\n    for j in range(160):\n        prediction_vote = []\n        for i in range(100):\n            m = i\n            i += j*100\n            y_hat = models[m].predict(X_test[i:i+1]).item(0)\n            prediction_vote.append(y_hat)\n        prediction.append(most_frequent(prediction_vote))\n    facit = y_test[\"setup\"][::100]\n    return facit, prediction    \n\n\n\n\n\n\ndf = pd.read_csv('armdatadf.csv')\n#df['setup'] = df['setup'].apply(str)\ndf['setup'] = df['setup'].astype(int)\n\nY = df[[\"setup\",\"person\",\"time\"]]\nX = df[[\"x\",\"y\",\"z\",\"person\", \"time\"]]\n\nfacit = Y[\"setup\"][::100].values\n\nrightWrong_KNN_all = np.zeros((10,10*16))\nrightWrong_KNN_noX = np.zeros((10,10*16))\nrightWrong_KNN_noY = np.zeros((10,10*16))\nrightWrong_KNN_noZ = np.zeros((10,10*16))\n\nrightWrong_DT_all = np.zeros((10,10*16))\nrightWrong_DT_noX = np.zeros((10,10*16))\nrightWrong_DT_noY = np.zeros((10,10*16))\nrightWrong_DT_noZ = np.zeros((10,10*16))\n\nGen_error_KNN_all = 0\nGen_error_KNN_noX = 0\nGen_error_KNN_noY = 0\nGen_error_KNN_noZ = 0\n\nGen_error_DT_all = 0\nGen_error_DT_noX = 0\nGen_error_DT_noY = 0\nGen_error_DT_noZ = 0\n\nn_persons = 10\nnn = 1\n\nfor i in range(1,n_persons+1):\n    #Seperation\n    X_train = X[(X.person != i)].copy()\n    X_train['x'] = (X_train['x']-X_train['x'].mean())/X_train['x'].std()\n    X_train['y'] = (X_train['y']-X_train['y'].mean())/X_train['y'].std()\n    X_train['z'] = (X_train['z']-X_train['z'].mean())/X_train['z'].std()\n\n    X_test  = X[(X.person == i)].copy()\n    X_test['x'] = (X_test['x']-X_test['x'].mean())/X_test['x'].std()\n    X_test['y'] = (X_test['y']-X_test['y'].mean())/X_test['y'].std()\n    X_test['z'] = (X_test['z']-X_test['z'].mean())/X_test['z'].std()\n\n    Y_train = Y[(Y.person != i)].copy()\n    Y_test  = Y[(Y.person == i)].copy()\n\n    ##################################################################################################################\n    #Training site with all \n    knn_models = knn_model_train(X_train[[\"x\",\"y\",\"z\",\"time\"]],Y_train,nn)\n    DT_models = DT_model_train(X_train[[\"x\",\"y\",\"z\",\"time\"]],Y_train)\n\n    # Testing site with all\n    facit, prediction = model_test(X_test[[\"x\",\"y\",\"z\"]], Y_test, knn_models)\n    rightWrong_KNN_all[i-1] = (facit==prediction)*1\n    acc = np.mean(facit==prediction)\n    Gen_error_KNN_all += np.mean(facit==prediction)\n    print(\"KNN: Completed person {} with all coordinates with an accuracy of {}\".format(i, acc))\n\n    facit, prediction = model_test(X_test[[\"x\",\"y\",\"z\"]], Y_test, DT_models)\n    rightWrong_DT_all[i-1] = (facit==prediction)*1\n    acc = np.mean(facit==prediction)\n    Gen_error_DT_all += np.mean(facit==prediction)\n    print(\"DT: Completed person {} with all coordinates with an accuracy of {}\".format(i, acc))\n\n    ##################################################################################################################\n    #Training site with no X \n    knn_models = knn_model_train(X_train[[\"y\",\"z\",\"time\"]],Y_train,nn)\n    DT_models = DT_model_train(X_train[[\"y\",\"z\",\"time\"]],Y_train)\n\n    # Testing site with no X\n    facit, prediction = model_test(X_test[[\"y\",\"z\"]], Y_test, knn_models)\n    rightWrong_KNN_noX[i-1] = (facit==prediction)*1\n    acc = np.mean(facit==prediction)\n    Gen_error_KNN_noX += np.mean(facit==prediction)\n    print(\"KNN: Completed person {} with no X with an accuracy of {}\".format(i, acc))\n\n    facit, prediction = model_test(X_test[[\"y\",\"z\"]], Y_test, DT_models)\n    rightWrong_DT_noX[i-1] = (facit==prediction)*1\n    acc = np.mean(facit==prediction)\n    Gen_error_DT_noX += np.mean(facit==prediction)\n\n    print(\"DT: Completed person {} with no X with an accuracy of {}\".format(i, acc))\n\n    ##################################################################################################################\n    #Training site with no Z \n    knn_models = knn_model_train(X_train[[\"y\",\"x\",\"time\"]],Y_train,nn)\n    DT_models = DT_model_train(X_train[[\"y\",\"x\",\"time\"]],Y_train)\n\n    # Testing site with no Z\n    facit, prediction = model_test(X_test[[\"y\",\"x\"]], Y_test, knn_models)\n    rightWrong_KNN_noZ[i-1] = (facit==prediction)*1\n    acc = np.mean(facit==prediction)\n    Gen_error_KNN_noZ += np.mean(facit==prediction)\n    print(\"KNN: Completed person {} with no Z with an accuracy of {}\".format(i, acc))\n\n    facit, prediction = model_test(X_test[[\"x\",\"y\"]], Y_test, DT_models)\n    rightWrong_DT_noZ[i-1] = (facit==prediction)*1\n    acc = np.mean(facit==prediction)\n    Gen_error_DT_noZ += np.mean(facit==prediction)\n\n    print(\"DT: Completed person {} with no Z with an accuracy of {}\".format(i, acc))\n\n    ##################################################################################################################\n    #Training site with no Y \n    knn_models = knn_model_train(X_train[[\"z\",\"x\",\"time\"]],Y_train,nn)\n    DT_models = DT_model_train(X_train[[\"z\",\"x\",\"time\"]],Y_train)\n\n    # Testing site with no Y\n    facit, prediction = model_test(X_test[[\"z\",\"x\"]], Y_test, knn_models)\n    rightWrong_KNN_noY[i-1] = (facit==prediction)*1\n    acc = np.mean(facit==prediction)\n    Gen_error_KNN_noY += np.mean(facit==prediction)\n    print(\"KNN: Completed person {} with no Y with an accuracy of {}\".format(i, acc))\n\n    facit, prediction = model_test(X_test[[\"x\",\"z\"]], Y_test, DT_models)\n    rightWrong_DT_noY[i-1] = (facit==prediction)*1\n    acc = np.mean(facit==prediction)\n    Gen_error_DT_noY += np.mean(facit==prediction)\n\n    print(\"DT: Completed person {} with no Y with an accuracy of {}\".format(i, acc))\n\nGen_error_est_knn_noX = 1-(Gen_error_knn_noX / n_persons)\nGen_error_est_knn_noY = 1-(Gen_error_knn_noY / n_persons)\nGen_error_est_knn_noZ = 1-(Gen_error_knn_noZ / n_persons)\nGen_error_est_knn_all = 1-(Gen_error_knn_all / n_persons)\n\nGen_error_est_DT_noX  = 1-(Gen_error_DT_noX / n_persons)\nGen_error_est_DT_noY  = 1-(Gen_error_DT_noY / n_persons)\nGen_error_est_DT_noZ  = 1-(Gen_error_DT_noZ / n_persons)\nGen_error_est_DT_all  = 1-(Gen_error_DT_all / n_persons)\n\nprint(\"Completed {} number of neighbours with all coordinates with an estimated generalization error of {}.\".format(nn, Gen_error_est_knn_all))\nprint(\"Completed {} number of neighbours with no X with an estimated generalization error of {}.\".format(nn, Gen_error_est_knn_noX))\nprint(\"Completed {} number of neighbours with no Y with an estimated generalization error of {}.\".format(nn, Gen_error_est_knn_noY))\nprint(\"Completed {} number of neighbours with no Z with an estimated generalization error of {}.\".format(nn, Gen_error_est_knn_noZ))\n\nprint(\"Completed Decision Tree with all coordinates an estimated generalization error of {}.\".format(Gen_error_est_DT_all))\nprint(\"Completed Decision Tree with no X an estimated generalization error of {}.\".format(Gen_error_est_DT_noX))\nprint(\"Completed Decision Tree with no Y an estimated generalization error of {}.\".format(Gen_error_est_DT_noY))\nprint(\"Completed Decision Tree with no Z an estimated generalization error of {}.\".format(Gen_error_est_DT_noZ))\n\n#the returned generalization error when testing   (number of correctly classified setups in test)/(length of trajectories in test)",
   "execution_count": null,
   "outputs": []
  },
  {
   "cell_type": "code",
   "metadata": {
    "cell_id": "efb1bff9-f5ac-4876-b2f8-ca0b07523416",
    "tags": [],
    "deepnote_to_be_reexecuted": true,
    "source_hash": "5675e18f",
    "execution_start": 1642112530089,
    "execution_millis": 6843,
    "deepnote_output_heights": [
     78.8125,
     194.03125
    ],
    "deepnote_cell_type": "code"
   },
   "source": "df = pd.read_csv('armdatadf.csv')\n#df['setup'] = df['setup'].apply(str)\ndf['setup'] = df['setup'].astype(int)\n\nY = df[[\"setup\",\"person\",\"time\"]]\nX = df[[\"x\",\"y\",\"z\",\"person\", \"time\"]]\n\nfacit = Y[\"setup\"][::100].values\n\n\ndf = pd.read_csv('armdatadf.csv')\ndf['setup'] = df['setup'].astype(int)\n\nX = df[[\"x\",\"y\",\"z\"]]\nY = df[\"setup\"]\n\nX.x = (X.x-X.x.mean()) / X.x.std()\nX.y = (X.y-X.y.mean()) / X.y.std()\nX.z = (X.z-X.z.mean()) / X.z.std()\n\n# XM = np.empty([300])\n\n# for i in range(1600):\n#     XM = np.vstack([XM,X[[\"x\",\"y\",\"z\"]][i*100:(i+1)*100].values.ravel()])\n\n# XM = np.delete(XM,0,0)\n\n# clf = KNeighborsClassifier(n_neighbors=1)\n# XM\n# preds = []\n# generr = 0\n# for i in range(10):\n#     clf = KNeighborsClassifier(n_neighbors=100)\n#     test_IDS = list(range(160*i,160*(i+1)))\n#     X_test   = XM[test_IDS]\n#     X_train  = np.delete(XM, test_IDS, axis = 0)\n    \n#     y_test = facit[test_IDS]\n#     y_train  = np.delete(facit,test_IDS)\n\n#     #Training site\n#     model = clf.fit(X_train,y_train)\n\n#     #Testing site\n#     preds.append(model.predict(X_test))\n#     generr += np.mean(preds == y_test)\n# generr /= 10\n# print(generr)\n#the returned generalization error ",
   "execution_count": null,
   "outputs": [
    {
     "name": "stderr",
     "text": "/shared-libs/python3.7/py/lib/python3.7/site-packages/pandas/core/generic.py:5494: SettingWithCopyWarning: \nA value is trying to be set on a copy of a slice from a DataFrame.\nTry using .loc[row_indexer,col_indexer] = value instead\n\nSee the caveats in the documentation: https://pandas.pydata.org/pandas-docs/stable/user_guide/indexing.html#returning-a-view-versus-a-copy\n  self[name] = value\n0.2646416170634921\n",
     "output_type": "stream"
    }
   ]
  },
  {
   "cell_type": "code",
   "metadata": {
    "cell_id": "73ce6ca9-c66a-4af9-8a67-8a1a928b69b4",
    "tags": [],
    "deepnote_to_be_reexecuted": false,
    "source_hash": "d83ef828",
    "execution_start": 1642114651056,
    "execution_millis": 2703,
    "deepnote_output_heights": [
     21.1875
    ],
    "deepnote_cell_type": "code"
   },
   "source": "rightWrong_KNN_all = np.zeros((10,10*16))\nrightWrong_KNN_noX = np.zeros((10,10*16))\nrightWrong_KNN_noY = np.zeros((10,10*16))\nrightWrong_KNN_noZ = np.zeros((10,10*16))\n\nrightWrong_DT_all = np.zeros((10,10*16))\nrightWrong_DT_noX = np.zeros((10,10*16))\nrightWrong_DT_noY = np.zeros((10,10*16))\nrightWrong_DT_noZ = np.zeros((10,10*16))\n\n\ndf = pd.DataFrame (rightWrong_KNN_all)\nfilepath = 'rightWrong_KNN_all.xlsx'\ndf.to_excel(filepath, index=False)\n\ndf = pd.DataFrame (rightWrong_KNN_noX)\nfilepath = 'rightWrong_KNN_noX.xlsx'\ndf.to_excel(filepath, index=False)\n\ndf = pd.DataFrame (rightWrong_KNN_noY)\nfilepath = 'rightWrong_KNN_noY.xlsx'\ndf.to_excel(filepath, index=False)\n\ndf = pd.DataFrame (rightWrong_KNN_noZ)\nfilepath = 'rightWrong_KNN_noZ.xlsx'\ndf.to_excel(filepath, index=False)\n\ndf = pd.DataFrame (rightWrong_KNN_noX)\nfilepath = 'rightWrong_KNN_noX.xlsx'\ndf.to_excel(filepath, index=False)\n\ndf = pd.DataFrame (rightWrong_DT_all)\nfilepath = 'rightWrong_DT_all.xlsx'\ndf.to_excel(filepath, index=False)\n\ndf = pd.DataFrame (rightWrong_DT_noX)\nfilepath = 'rightWrong_DT_noX.xlsx'\ndf.to_excel(filepath, index=False)\n\ndf = pd.DataFrame (rightWrong_DT_noY)\nfilepath = 'rightWrong_DT_noY.xlsx'\ndf.to_excel(filepath, index=False)\n\ndf = pd.DataFrame (rightWrong_DT_noZ)\nfilepath = 'rightWrong_DT_noZ.xlsx'\ndf.to_excel(filepath, index=False)",
   "execution_count": null,
   "outputs": []
  },
  {
   "cell_type": "code",
   "metadata": {
    "tags": [],
    "cell_id": "00002-e370f71c-96fd-42b0-a5d6-7d6ddfd939cd",
    "deepnote_to_be_reexecuted": true,
    "source_hash": "3489a318",
    "execution_start": 1642083292580,
    "execution_millis": 129616,
    "deepnote_output_heights": [
     null,
     597.328125
    ],
    "output_cleared": true,
    "is_code_hidden": true,
    "deepnote_cell_type": "code"
   },
   "source": "rightWrong = np.zeros((10,10*16))\nGen_error_est = []\nn_persons = 10\n# nn_to_try_out = [1,2,3,5,8,10,15,20]\nnn_to_try_out = [1,2,3,5,8,10,15,20]\nfor nn in nn_to_try_out:\n    Gen_error = 0\n    for i in range(1,n_persons+1):\n        #Seperation\n        X_train = X[(X.person != i)].copy()\n        X_train['x'] = (X_train['x']-X_train['x'].mean())/X_train['x'].std()\n        X_train['y'] = (X_train['y']-X_train['y'].mean())/X_train['y'].std()\n        X_train['z'] = (X_train['z']-X_train['z'].mean())/X_train['z'].std()\n\n        X_test  = X[(X.person == i)].copy()\n        X_test['x'] = (X_test['x']-X_test['x'].mean())/X_test['x'].std()\n        X_test['y'] = (X_test['y']-X_test['y'].mean())/X_test['y'].std()\n        X_test['z'] = (X_test['z']-X_test['z'].mean())/X_test['z'].std()\n\n        Y_train = Y[(Y.person != i)].copy()\n        Y_test  = Y[(Y.person == i)].copy()\n\n        #Training site\n        models = knn_model_train(X_train,Y_train,nn)\n\n        #Testing site\n        facit, prediction = knn_model_test(X_test, Y_test, models)\n        rightWrong[i] = (facit==prediction)*1\n        acc = np.mean(facit==prediction)\n        Gen_error += np.mean(facit==prediction)\n        print(\"Completed person {} with an accuracy of {}\".format(i, acc))\n\n    Gen_avr = Gen_error / n_persons\n    Gen_error_est.append(Gen_avr)\n    print(\"Completed {} number of neighbours with an estimated generalization accuracy of {}.\".format(nn, Gen_avr))\nprint(\"The final generalization accuracies: \")\nprint(Gen_error_est)\n#the returned generalization error when testing   (number of correctly classified setups in test)/(length of trajectories in test)",
   "execution_count": null,
   "outputs": []
  },
  {
   "cell_type": "code",
   "metadata": {
    "cell_id": "bdc3f679-01bc-4cba-94a0-f22a6eec477f",
    "tags": [],
    "deepnote_to_be_reexecuted": true,
    "source_hash": "2ffe9c1d",
    "deepnote_cell_type": "code"
   },
   "source": "[1,2,3,5,8,10,15,20]\n[0.327, 0.264, 0.2647, 0.3016, 0.3244, 0.33, 0.3263, 0.3325]",
   "execution_count": null,
   "outputs": []
  },
  {
   "cell_type": "markdown",
   "source": "<a style='text-decoration:none;line-height:16px;display:flex;color:#5B5B62;padding:10px;justify-content:end;' href='https://deepnote.com?utm_source=created-in-deepnote-cell&projectId=9cabbf1f-ad60-47b3-af3c-cdf3732148b9' target=\"_blank\">\n<img alt='Created in deepnote.com' style='display:inline;max-height:16px;margin:0px;margin-right:7.5px;' src='data:image/svg+xml;base64,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' > </img>\nCreated in <span style='font-weight:600;margin-left:4px;'>Deepnote</span></a>",
   "metadata": {
    "tags": [],
    "created_in_deepnote_cell": true,
    "deepnote_cell_type": "markdown"
   }
  }
 ],
 "nbformat": 4,
 "nbformat_minor": 2,
 "metadata": {
  "orig_nbformat": 2,
  "deepnote": {
   "is_reactive": false
  },
  "deepnote_notebook_id": "503b6602-ffe9-483c-9928-2e6fe8a290e2",
  "deepnote_execution_queue": []
 }
}